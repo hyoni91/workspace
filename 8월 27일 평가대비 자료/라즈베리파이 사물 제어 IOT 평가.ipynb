{
 "cells": [
  {
   "cell_type": "markdown",
   "metadata": {},
   "source": [
    "### 라즈베리파이 사물 제어 IOT 평가"
   ]
  },
  {
   "cell_type": "markdown",
   "metadata": {},
   "source": [
    "1. 키보드로 두 수를 입력받아 큰 수부터 출력하는 프로그램을 작성하시요. 단, 입력받는 두 수는 중복이 없다고 가정한다."
   ]
  },
  {
   "cell_type": "code",
   "execution_count": 57,
   "metadata": {},
   "outputs": [
    {
     "name": "stdout",
     "output_type": "stream",
     "text": [
      "5 2\n"
     ]
    }
   ],
   "source": [
    "# 1번 문제 답안 작성\n",
    "n1 = int(input('정수입력: '))\n",
    "n2 = int(input('정수입력: '))\n",
    "\n",
    "print(max(n1,n2), min(n1,n2))"
   ]
  },
  {
   "cell_type": "markdown",
   "metadata": {},
   "source": [
    "2. 키보드로 세 수를 입력받고,입력받은 세 수를 리스트에 저장하시오.<br> 그 후 리스트에 저장된 수 중 가장 큰 수와 가장 작은 수의 차를 출력하시오."
   ]
  },
  {
   "cell_type": "code",
   "execution_count": 60,
   "metadata": {},
   "outputs": [
    {
     "name": "stdout",
     "output_type": "stream",
     "text": [
      "9\n"
     ]
    }
   ],
   "source": [
    "# 2번 문제 답안 작성\n",
    "\n",
    "numberList = []\n",
    "numberList.append(int(input('정수입력:')))\n",
    "numberList.append(int(input('정수입력:')))\n",
    "numberList.append(int(input('정수입력:')))\n",
    "\n",
    "print(max(numberList) - min(numberList))"
   ]
  },
  {
   "cell_type": "markdown",
   "metadata": {},
   "source": [
    "3. 매개변수로 두 정수를 받아, 두 정수 사이의(두 정수 포함) 모든 정수를 갖는 리스트를 리턴하는 함수를 구현하시오."
   ]
  },
  {
   "cell_type": "code",
   "execution_count": 11,
   "metadata": {},
   "outputs": [
    {
     "name": "stdout",
     "output_type": "stream",
     "text": [
      "[5, 6, 7, 8, 9, 10]\n"
     ]
    }
   ],
   "source": [
    "# 3번 문제 답안 작성\n",
    "\n",
    "num1 = int(input('정수입력: '))\n",
    "num2 = int(input('정수입력: '))\n",
    "\n",
    "arr1 = []\n",
    "numMin = min(num1,num2)\n",
    "numMax = max(num1,num2)\n",
    "\n",
    "for i in range(numMin, numMax+1) :\n",
    "  arr1.append(i)\n",
    "\n",
    "print(arr1)\n"
   ]
  },
  {
   "cell_type": "markdown",
   "metadata": {},
   "source": [
    "4. 아래 제시된 phone 객체에 제조사, 모델명, 가격 정보를 키보드로 입력받아,   \n",
    "입력받은 내용을 추가하고 phone 정보를 출력하시오."
   ]
  },
  {
   "cell_type": "code",
   "execution_count": 62,
   "metadata": {},
   "outputs": [
    {
     "name": "stdout",
     "output_type": "stream",
     "text": [
      "{'brand': '삼성', 'modelName': '갤럭시', 'price': 100000}\n"
     ]
    }
   ],
   "source": [
    "phone = {}\n",
    "\n",
    "# 4번 문제 답안 작성\n",
    "phone['brand'] = input('brand : ')\n",
    "phone['modelName'] = input('medelName : ')\n",
    "phone['price'] = int(input('price : '))\n",
    "\n",
    "print(phone)"
   ]
  },
  {
   "cell_type": "markdown",
   "metadata": {},
   "source": [
    "5. 아래 데이터는 자바반과 자반에 소속된 학생들의 정보이다.  \n",
    "나이가 30살 이상인 학생들의 점수의 합을 출력하세요."
   ]
  },
  {
   "cell_type": "code",
   "execution_count": 54,
   "metadata": {},
   "outputs": [
    {
     "name": "stdout",
     "output_type": "stream",
     "text": [
      "250\n"
     ]
    }
   ],
   "source": [
    "javaClass= {\n",
    "  'calssName' : '자바반',\n",
    "  'teacher' : '김자바',\n",
    "  'studentList' : [\n",
    "    {'name' : '홍길동', 'age': 31, 'score' : 85},\n",
    "    {'name' : '이순신', 'age': 35, 'score' : 95},\n",
    "    {'name' : '유관순', 'age': 29, 'score' : 80},\n",
    "    {'name' : '장영실', 'age': 37, 'score' : 70},\n",
    "    {'name' : '신사임당', 'age': 25, 'score' : 65},\n",
    "  ]\n",
    "}\n",
    "\n",
    "# 5번 문제 답안 작성\n",
    "ageSum = 0\n",
    "\n",
    "for stu in javaClass['studentList'] :\n",
    "  if(stu['age']>=30) :\n",
    "    ageSum = ageSum+ stu['score']\n",
    "\n",
    "print(ageSum)\n",
    "\n"
   ]
  },
  {
   "cell_type": "markdown",
   "metadata": {},
   "source": [
    "다음 딕셔너리 데이터를 참고하여 아래 문제들을 해결하시오."
   ]
  },
  {
   "cell_type": "code",
   "execution_count": 102,
   "metadata": {},
   "outputs": [],
   "source": [
    "# 2012년 광역시별 25세 미만 연령별 인구 데이터\n",
    "population = {\n",
    "    '행정기관' : ['서울특별시', '부산광역시', '대구광역시', '인천광역시', '울산광역시'],\n",
    "    '0~4세' : [214651, 68006, 53515, 69453, 29835],\n",
    "    '5~9세' : [210833, 68704, 58332, 68555, 29331],\n",
    "    '10~14세' : [269171, 94802, 91268, 86574, 29035],\n",
    "    '15~19세' : [335828, 124564, 101110, 106435, 49119],\n",
    "    '20~24세' : [343797, 125907, 96078, 102297, 43937]\n",
    "}"
   ]
  },
  {
   "cell_type": "markdown",
   "metadata": {},
   "source": [
    "6. 2012년 기준 대한민국에서 25세 미만의 인구수 중 인구가 가장 많은 연령대를 출력하시오."
   ]
  },
  {
   "cell_type": "code",
   "execution_count": 157,
   "metadata": {},
   "outputs": [
    {
     "name": "stdout",
     "output_type": "stream",
     "text": [
      "{'행정기관': ['서울특별시', '부산광역시', '대구광역시', '인천광역시', '울산광역시'], '0~4세': [214651, 68006, 53515, 69453, 29835], '5~9세': [210833, 68704, 58332, 68555, 29331], '10~14세': [269171, 94802, 91268, 86574, 29035], '15~19세': [335828, 124564, 101110, 106435, 49119], '20~24세': [343797, 125907, 96078, 102297, 43937]}\n"
     ]
    },
    {
     "ename": "TypeError",
     "evalue": "string indices must be integers, not 'str'",
     "output_type": "error",
     "traceback": [
      "\u001b[1;31m---------------------------------------------------------------------------\u001b[0m",
      "\u001b[1;31mTypeError\u001b[0m                                 Traceback (most recent call last)",
      "Cell \u001b[1;32mIn[157], line 7\u001b[0m\n\u001b[0;32m      1\u001b[0m \u001b[38;5;66;03m# 6번 문제 답안 작성\u001b[39;00m\n\u001b[0;32m      4\u001b[0m \u001b[38;5;28mprint\u001b[39m(population)\n\u001b[1;32m----> 7\u001b[0m \u001b[38;5;28mprint\u001b[39m(\u001b[38;5;28;43mtuple\u001b[39;49m\u001b[43m(\u001b[49m\u001b[43mm\u001b[49m\u001b[43m[\u001b[49m\u001b[38;5;124;43m'\u001b[39;49m\u001b[38;5;124;43m0~4세\u001b[39;49m\u001b[38;5;124;43m'\u001b[39;49m\u001b[43m]\u001b[49m\u001b[43m \u001b[49m\u001b[38;5;28;43;01mfor\u001b[39;49;00m\u001b[43m \u001b[49m\u001b[43mm\u001b[49m\u001b[43m \u001b[49m\u001b[38;5;129;43;01min\u001b[39;49;00m\u001b[43m \u001b[49m\u001b[43mpopulation\u001b[49m\u001b[43m)\u001b[49m)\n",
      "Cell \u001b[1;32mIn[157], line 7\u001b[0m, in \u001b[0;36m<genexpr>\u001b[1;34m(.0)\u001b[0m\n\u001b[0;32m      1\u001b[0m \u001b[38;5;66;03m# 6번 문제 답안 작성\u001b[39;00m\n\u001b[0;32m      4\u001b[0m \u001b[38;5;28mprint\u001b[39m(population)\n\u001b[1;32m----> 7\u001b[0m \u001b[38;5;28mprint\u001b[39m(\u001b[38;5;28mtuple\u001b[39m(\u001b[43mm\u001b[49m\u001b[43m[\u001b[49m\u001b[38;5;124;43m'\u001b[39;49m\u001b[38;5;124;43m0~4세\u001b[39;49m\u001b[38;5;124;43m'\u001b[39;49m\u001b[43m]\u001b[49m \u001b[38;5;28;01mfor\u001b[39;00m m \u001b[38;5;129;01min\u001b[39;00m population))\n",
      "\u001b[1;31mTypeError\u001b[0m: string indices must be integers, not 'str'"
     ]
    }
   ],
   "source": [
    "# 6번 문제 답안 작성\n",
    "\n"
   ]
  },
  {
   "cell_type": "markdown",
   "metadata": {},
   "source": [
    "7. '총 인구수' 라는 키를 추가하고, 해당 키에 0세부터 24세까지의 인구 합을 데이터로 하여 population 데이터에 추가하시오."
   ]
  },
  {
   "cell_type": "code",
   "execution_count": null,
   "metadata": {},
   "outputs": [],
   "source": [
    "# 7번 문제 답안 작성\n"
   ]
  }
 ],
 "metadata": {
  "kernelspec": {
   "display_name": "Python 3",
   "language": "python",
   "name": "python3"
  },
  "language_info": {
   "codemirror_mode": {
    "name": "ipython",
    "version": 3
   },
   "file_extension": ".py",
   "mimetype": "text/x-python",
   "name": "python",
   "nbconvert_exporter": "python",
   "pygments_lexer": "ipython3",
   "version": "3.12.4"
  }
 },
 "nbformat": 4,
 "nbformat_minor": 2
}
