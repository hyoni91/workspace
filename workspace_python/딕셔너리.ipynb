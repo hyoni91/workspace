{
 "cells": [
  {
   "cell_type": "markdown",
   "metadata": {},
   "source": [
    "### 딕셔너리 (사전 자료형 Dictionary)\n",
    "\n",
    "* 자바스크립트의 객체와 동일하다.\n",
    "* key:value로 구성되어 있다."
   ]
  },
  {
   "cell_type": "code",
   "execution_count": null,
   "metadata": {},
   "outputs": [],
   "source": [
    "#딕셔너리 생성\n",
    "\n",
    "dic1 = {}\n",
    "dic2 = { 'key' : 'value'\n",
    "        }\n",
    "\n",
    "dic2 = {'name' : 'kim', 'age':20\n",
    "        }"
   ]
  },
  {
   "cell_type": "code",
   "execution_count": 1,
   "metadata": {},
   "outputs": [
    {
     "name": "stdout",
     "output_type": "stream",
     "text": [
      "{'stuNum': 3, 'stuName': 'min'}\n"
     ]
    }
   ],
   "source": [
    "#딕셔너리의 성질\n",
    "#중복된 key값은 가질 수 없다.\n",
    "\n",
    "dic3 = {\n",
    "  'stuNum' : 1,\n",
    "  'stuName' : 'min',\n",
    "  'stuNum' : 3 \n",
    "}\n",
    "\n",
    "print(dic3)\n",
    "\n",
    "# 위와같이 중복된 key값을 가지는 경우, 가장 최근의 값으로 덮어쓰기한다.\n"
   ]
  },
  {
   "cell_type": "code",
   "execution_count": 3,
   "metadata": {},
   "outputs": [
    {
     "name": "stdout",
     "output_type": "stream",
     "text": [
      "{'name': 'jim', 'age': 20}\n",
      "{'name': 'kim', 'age': 20}\n"
     ]
    }
   ],
   "source": [
    "# 딕셔너리 데이터 추가\n",
    "# dic['key'] = value\n",
    "dic1 = {}\n",
    "\n",
    "dic1['name'] = 'jim'\n",
    "dic1['age'] = 20\n",
    "\n",
    "print(dic1)\n",
    "\n",
    "# name이라는 key값을 'kim'으로 변경\n",
    "# 변경기능은 따로 없으니, 데이터를 덮어씌우면 된다.\n",
    "dic1['name'] = 'kim'\n",
    "\n",
    "print(dic1)\n",
    "\n"
   ]
  },
  {
   "cell_type": "code",
   "execution_count": 4,
   "metadata": {},
   "outputs": [
    {
     "name": "stdout",
     "output_type": "stream",
     "text": [
      "{'modelName': 'iphone', 'price': 101000}\n"
     ]
    }
   ],
   "source": [
    "# 딕셔너리 데이터 삭제\n",
    "\n",
    "phone = {\n",
    "  'modelName' : 'iphone',\n",
    "  'price' : 101000,\n",
    "  'color' : 'black'\n",
    "}\n",
    "\n",
    "del phone['color']\n",
    "\n",
    "print(phone)\n",
    "\n"
   ]
  },
  {
   "cell_type": "code",
   "execution_count": 21,
   "metadata": {},
   "outputs": [
    {
     "name": "stdout",
     "output_type": "stream",
     "text": [
      "samsung\n",
      "1000000\n",
      "dict_keys(['brand', 'price', 'inch', 'color'])\n",
      "dict_values(['samsung', 1000000, 30, 'black'])\n",
      "--------------반복문으로 출력-----------------\n",
      "brand\n",
      "price\n",
      "inch\n",
      "color\n",
      "--------------반복문 2-----------------\n",
      "brand samsung\n",
      "price 1000000\n",
      "inch 30\n",
      "color black\n",
      "--------------반복문 3-----------------\n",
      "samsung\n",
      "1000000\n",
      "30\n",
      "black\n"
     ]
    }
   ],
   "source": [
    "# 딕셔너리 데이터 출력\n",
    "\n",
    "monitor = {\n",
    "  'brand' : 'samsung',\n",
    "  'price' : 1000000,\n",
    "  'inch' : 30,\n",
    "  'color' : 'black'\n",
    "}\n",
    "\n",
    "print(monitor['brand'])\n",
    "print(monitor['price'])\n",
    "\n",
    "\n",
    "# 모든 key값 출력 * [] 리스트 형태로 출력된다\n",
    "print(monitor.keys())\n",
    "\n",
    "# 모든 vlues값 출력 * [] 리스트 형태로 출력된다\n",
    "print(monitor.values())\n",
    "\n",
    "\n",
    "print('--------------반복문으로 출력-----------------')\n",
    "\n",
    "# 반복문으로 출력하기(key값만 나오네?)\n",
    "for mo in monitor :\n",
    "  print(mo)\n",
    "\n",
    "\n",
    "\n",
    "print('--------------반복문 2-----------------')\n",
    "for m in monitor.keys() :\n",
    "  print(m, monitor[m]) \n",
    "\n",
    "# monitor 안에 key값 넣으면 value값 나오니까! 응용!!\n",
    "\n",
    "\n",
    "print('--------------반복문 3-----------------')\n",
    "\n",
    "for val in monitor.values() :\n",
    "  print(val)\n",
    "\n"
   ]
  },
  {
   "cell_type": "code",
   "execution_count": 26,
   "metadata": {},
   "outputs": [
    {
     "name": "stdout",
     "output_type": "stream",
     "text": [
      "game\n",
      "park\n"
     ]
    }
   ],
   "source": [
    "intro = {\n",
    "  'name' : 'tata',\n",
    "  'age' : 20,\n",
    "  'hobby' : ['game','study'],\n",
    "  'family' : {\n",
    "    'mother' : 'park',\n",
    "    'father' : 'kim',\n",
    "    'sister' : 'bo'\n",
    "  }\n",
    "}\n",
    "\n",
    "print(intro['hobby'][0])\n",
    "print(intro['family']['mother'])\n"
   ]
  },
  {
   "cell_type": "code",
   "execution_count": 27,
   "metadata": {},
   "outputs": [],
   "source": [
    "# 실습 문제\n",
    "\n",
    "# 아래의 데이터를 참고하여 문제를 해결하시오.\n",
    "\n",
    "student = {\n",
    "  'name' : 'hong',\n",
    "  'korScore' : 0,\n",
    "  'mathScore' : 0\n",
    "}"
   ]
  },
  {
   "cell_type": "code",
   "execution_count": 36,
   "metadata": {},
   "outputs": [
    {
     "name": "stdout",
     "output_type": "stream",
     "text": [
      "{'name': 'hong', 'korScore': 100, 'mathScore': 100, 'totalScore': 200}\n"
     ]
    }
   ],
   "source": [
    "# 1. student 딕셔너리 데이터의 국어점수 및 수학점수를 키보드로 입력받은 데이터로 변경시키세요.\n",
    "\n",
    "\n",
    "student['korScore'] = int(input('국어점수 : '))\n",
    "student['mathScore'] = int(input('수학점수: '))\n",
    "\n",
    "# 국어 점수와 수학 점수가 변경되었다면 총 점을 저장하라.\n",
    "# 총점의 key는 totalScore라고 지정한다.\n",
    "\n",
    "sum =  student['korScore'] + student['mathScore']\n",
    "\n",
    "student['totalScore'] = sum\n",
    "\n",
    "print(student)"
   ]
  }
 ],
 "metadata": {
  "kernelspec": {
   "display_name": "Python 3",
   "language": "python",
   "name": "python3"
  },
  "language_info": {
   "codemirror_mode": {
    "name": "ipython",
    "version": 3
   },
   "file_extension": ".py",
   "mimetype": "text/x-python",
   "name": "python",
   "nbconvert_exporter": "python",
   "pygments_lexer": "ipython3",
   "version": "3.12.4"
  }
 },
 "nbformat": 4,
 "nbformat_minor": 2
}
