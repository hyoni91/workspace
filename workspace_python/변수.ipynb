{
 "cells": [
  {
   "cell_type": "markdown",
   "metadata": {},
   "source": [
    "#### 파이썬의 변수\n",
    "* 파이썬은 자료형이 자바와 다르게 눈에 보이지 않는다.\n",
    "* 변수명은 자바와 동일한 형식으로 지정, 중복 불가"
   ]
  },
  {
   "cell_type": "code",
   "execution_count": 11,
   "metadata": {},
   "outputs": [
    {
     "name": "stdout",
     "output_type": "stream",
     "text": [
      "5\n",
      "25\n",
      "15.5\n",
      "문자열\n",
      "-----------------------------------\n",
      "<class 'float'>\n",
      "<class 'int'>\n",
      "<class 'int'>\n",
      "<class 'str'>\n",
      "-----------------------------------\n",
      "문자열로 저장\n"
     ]
    }
   ],
   "source": [
    "# 숫자를 저장할 변수 선언 및 값 할당\n",
    "num1 = 5\n",
    "print(num1)\n",
    "\n",
    "num2 = 20\n",
    "print(num1 + num2)\n",
    "\n",
    "num3 = 10.5\n",
    "strData = '문자열'\n",
    "\n",
    "print(num3+num1)\n",
    "print(strData)\n",
    "# print(strData+num1)  오류! 자료형이 맞지 않는다!\n",
    "\n",
    "print(\"-----------------------------------\")\n",
    "\n",
    "# tpye() : 자료형 조회 \n",
    "print(type(num3))\n",
    "print(type(num1))\n",
    "print(type(num2))\n",
    "print(type(strData))\n",
    "\n",
    "print(\"-----------------------------------\")\n",
    "\n",
    "# 정수가 저장된 변수에 문자열이나 실수처럼 다른 자료형이 저장이 될까?\n",
    "num4 = 20 \n",
    "num4 = 10\n",
    "num4 = '문자열로 저장'\n",
    "print(num4)\n",
    "\n",
    "# 결과 : 자료형 관계없이 다 넣을 수 있다~\n",
    "\n",
    "\n"
   ]
  },
  {
   "cell_type": "code",
   "execution_count": 12,
   "metadata": {},
   "outputs": [
    {
     "name": "stdout",
     "output_type": "stream",
     "text": [
      "문자열로 저장\n"
     ]
    }
   ],
   "source": [
    "# 한 확장자 파일에서의 cell은 전부 공유중!\n",
    "print(num4)"
   ]
  },
  {
   "cell_type": "code",
   "execution_count": 19,
   "metadata": {},
   "outputs": [
    {
     "name": "stdout",
     "output_type": "stream",
     "text": [
      "저의 이름은 알제이입니다\n",
      "제 이름은 알제이 이고, 나이는 20입니다\n"
     ]
    }
   ],
   "source": [
    "# 포맷 출력 (자바스크립트의 백틱)\n",
    "\n",
    "name = '알제이'\n",
    "age = 20\n",
    "\n",
    "print('저의 이름은 ' + name + '입니다')\n",
    "\n",
    "# 제 이름은 name이고, 나이는 age입니다.\n",
    "# format의 f'문자열 작성 {변수명}'\n",
    "print(f'제 이름은 {name} 이고, 나이는 {age}입니다')\n",
    "\n"
   ]
  }
 ],
 "metadata": {
  "kernelspec": {
   "display_name": "Python 3",
   "language": "python",
   "name": "python3"
  },
  "language_info": {
   "codemirror_mode": {
    "name": "ipython",
    "version": 3
   },
   "file_extension": ".py",
   "mimetype": "text/x-python",
   "name": "python",
   "nbconvert_exporter": "python",
   "pygments_lexer": "ipython3",
   "version": "3.12.4"
  }
 },
 "nbformat": 4,
 "nbformat_minor": 2
}
