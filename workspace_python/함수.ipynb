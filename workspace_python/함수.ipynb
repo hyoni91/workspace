{
 "cells": [
  {
   "cell_type": "markdown",
   "metadata": {},
   "source": [
    "### 함수 \n",
    "\n",
    "* 자바의 메서드와 같은 역할\n",
    "* 자바스크립트의 함수와 같은 역할\n",
    "* 호출해서 사용 (기능사용)"
   ]
  },
  {
   "cell_type": "code",
   "execution_count": 3,
   "metadata": {},
   "outputs": [
    {
     "name": "stdout",
     "output_type": "stream",
     "text": [
      "hi\n",
      "hello\n"
     ]
    }
   ],
   "source": [
    "\n",
    "# 함수 선언\n",
    "def sayHello() :\n",
    "  print('hi')\n",
    "  print('hello')\n",
    "\n",
    "\n",
    "# 함수 호출\n",
    "sayHello()"
   ]
  },
  {
   "cell_type": "code",
   "execution_count": 4,
   "metadata": {},
   "outputs": [
    {
     "name": "stdout",
     "output_type": "stream",
     "text": [
      "30\n"
     ]
    }
   ],
   "source": [
    "# return을 가지는 함수(1)\n",
    "\n",
    "def getSum() :\n",
    "  return 10 + 20\n",
    "\n",
    "\n",
    "print(getSum())"
   ]
  },
  {
   "cell_type": "code",
   "execution_count": 11,
   "metadata": {},
   "outputs": [
    {
     "name": "stdout",
     "output_type": "stream",
     "text": [
      "(10, 20, 30, 40, 50)\n",
      "<built-in method count of tuple object at 0x00000188448066B0>\n",
      "10\n",
      "20\n",
      "30\n",
      "40\n",
      "50\n",
      "-----------------\n",
      "10 20 30\n"
     ]
    }
   ],
   "source": [
    "# return을 가지는 함수(2)\n",
    "# ✨✨✨파이썬은 리턴을 여러개 가질 수 있다!! \n",
    "\n",
    "def getNumbers() :\n",
    "  return 10,20,30,40,50\n",
    "\n",
    "print(getNumbers())\n",
    "\n",
    "\n",
    "# 특정 리턴문 받기\n",
    "print(getNumbers().count)\n",
    "\n",
    "# tuple(자료형 튜플)이란? () 안에 들어온다.\n",
    "# 튜플은 데이터 변경 불가\n",
    "\n",
    "\n",
    "# 출력 \n",
    "for t in getNumbers() :\n",
    "  print(t)\n",
    "\n",
    "print('-----------------')\n",
    "\n",
    "re1,re2,re3,re4,re5 = getNumbers()\n",
    "\n",
    "print(re1,re2,re3)\n"
   ]
  },
  {
   "cell_type": "code",
   "execution_count": 14,
   "metadata": {},
   "outputs": [
    {
     "name": "stdout",
     "output_type": "stream",
     "text": [
      "30\n",
      "100\n"
     ]
    }
   ],
   "source": [
    "# 매개변수가 있는 함수\n",
    "\n",
    "def getMulti(num1, num2) :\n",
    "  return num1 * num2\n",
    "\n",
    "n1 = 5\n",
    "n2 = 6\n",
    "\n",
    "result = getMulti(n1,n2)\n",
    "\n",
    "print(result)\n",
    "\n",
    "print(getMulti(10,10))"
   ]
  },
  {
   "cell_type": "code",
   "execution_count": 17,
   "metadata": {},
   "outputs": [
    {
     "name": "stdout",
     "output_type": "stream",
     "text": [
      "30\n",
      "55\n"
     ]
    }
   ],
   "source": [
    "# ✨✨✨✨매개변수에 디폴트값을 지정할 수 있다!\n",
    "\n",
    "def getSum(num1, num2, num3 = 15) :\n",
    "  return num1+num2+num3\n",
    "\n",
    "# 매개변수가 지정되어 있어도 직접 입력도 가능하다.\n",
    "# 입력하지 않았을때만 디폴트 값 적용\n",
    "print(getSum(10,10,10))\n",
    "\n",
    "print(getSum(20,20))\n",
    "\n",
    "\n"
   ]
  },
  {
   "cell_type": "code",
   "execution_count": 28,
   "metadata": {},
   "outputs": [
    {
     "name": "stdout",
     "output_type": "stream",
     "text": [
      "이름 : 꽁\n",
      "나이 : 30\n",
      "주소 : 하와이\n",
      "---------------------------------\n",
      "이름 : 악\n",
      "나이 : 15\n",
      "주소 : 여긴어디\n",
      "---------------------------------\n",
      "안녕   아항\n"
     ]
    }
   ],
   "source": [
    "# ✨✨✨✨✨매개변수에 들어가는 인자를 이름으로 지정할 수 있다\n",
    "\n",
    "def setMember(name,age,addr) :\n",
    "  print(f'이름 : {name}')\n",
    "  print(f'나이 : {age}')\n",
    "  print(f'주소 : {addr}')\n",
    "\n",
    "# 일반적인 호출(매개변수의 순서대로 데이터 입력)\n",
    "setMember('꽁',30,'하와이')\n",
    "\n",
    "print('---------------------------------')\n",
    "# 인자를 이름으로 지정(순서 상관없이 인자를 불러서 넣을 수 있다)\n",
    "setMember(name='악',addr='여긴어디',age=15)\n",
    "\n",
    "print('---------------------------------')\n",
    "print('안녕',end='   ')\n",
    "print('아항')"
   ]
  },
  {
   "cell_type": "code",
   "execution_count": 62,
   "metadata": {},
   "outputs": [
    {
     "name": "stdout",
     "output_type": "stream",
     "text": [
      "['c', 'g', 'j']\n"
     ]
    }
   ],
   "source": [
    "# 매개변수로 세개의 문자열이 전달되면 세 문자열의 2번째 그잘를 모은 리스트를 리턴하는 함수\n",
    "# 단 매개변수로 전달되는 문자열은 모두 길이가 3이상인 문자열만 들어온다고 가정\n",
    "\n",
    "def strList(str1, str2, str3) :\n",
    "  return [str1[2:3],str2[2:3],str3[2:3]]\n",
    "\n",
    "print(strList('abcd','efg','hijk'))"
   ]
  },
  {
   "cell_type": "code",
   "execution_count": 55,
   "metadata": {},
   "outputs": [
    {
     "name": "stdout",
     "output_type": "stream",
     "text": [
      "5\n"
     ]
    }
   ],
   "source": [
    "# 배열의 맥스값 구하기\n",
    "\n",
    "def getMax1(list1, list2) :\n",
    "  return max(list1 + list2)\n",
    "\n",
    "print(getMax1([1,2,3],[4,5]))"
   ]
  },
  {
   "cell_type": "code",
   "execution_count": null,
   "metadata": {},
   "outputs": [],
   "source": []
  }
 ],
 "metadata": {
  "kernelspec": {
   "display_name": "Python 3",
   "language": "python",
   "name": "python3"
  },
  "language_info": {
   "codemirror_mode": {
    "name": "ipython",
    "version": 3
   },
   "file_extension": ".py",
   "mimetype": "text/x-python",
   "name": "python",
   "nbconvert_exporter": "python",
   "pygments_lexer": "ipython3",
   "version": "3.12.4"
  }
 },
 "nbformat": 4,
 "nbformat_minor": 2
}
