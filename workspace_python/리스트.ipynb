{
 "cells": [
  {
   "cell_type": "markdown",
   "metadata": {},
   "source": [
    "### 리스트\n",
    "\n",
    "* ✨✨ 파이썬에서 쓰는 함수의 이름을 변수명으로 쓰면 오류가 남 ✨✨\n",
    "\n",
    "* 주의 점\n",
    "1. 변수명은 'list' 금지  예)list = [1,2,3] (x)\n",
    "2. 자료형 여러개 저장 가능\n",
    "3. 리스트 안에 다른 리스트도 가능\n",
    "4. 리스트에 접근할 때 . 이 아닌 [] 안에 요소 적기 \n",
    "5. 한 번 실행을 시키면 누적이 된다! (생성, 추가, 삭제)\n",
    "\n",
    "\n",
    "* 생성, 추가, 삭제\n",
    "1. append() : 차례대로 저장\n",
    "2. insert() : (인덱스, 밸류)\n",
    "3. remove() : (밸류값)\n",
    "4. clear() : 빈값 -> 밸류값 모두 삭제\n",
    "5. del 변수명[]   / del 변수명     인덱스로 삭제 / 변수자체 삭제\n",
    "\n",
    "\n",
    "* 슬라이싱\n",
    "1. [a:b]\n",
    "2. [a:b] = [c:d]\n",
    "3. del 리스트명[a:b]\n",
    "\n",
    "* [-1] : 뒤에서 부터  (index번호임)\n",
    "\n",
    "* 문자열로 리스트\n",
    "1) 아래 예제문과 예제 문제 읽어보기"
   ]
  },
  {
   "cell_type": "code",
   "execution_count": 100,
   "metadata": {},
   "outputs": [
    {
     "name": "stdout",
     "output_type": "stream",
     "text": [
      "n\n",
      "python\n"
     ]
    }
   ],
   "source": [
    "# 문자열도 리스트\n",
    "# 문자 하나하나가 리스트   'kim' -> [0]: 'k', [1] : 'i'\n",
    "name = 'python'\n",
    "print(name[5])\n",
    "print(name[0:])"
   ]
  },
  {
   "cell_type": "code",
   "execution_count": 127,
   "metadata": {},
   "outputs": [
    {
     "name": "stdout",
     "output_type": "stream",
     "text": [
      "r의 개수 : 4\n"
     ]
    }
   ],
   "source": [
    "# 아래 리스트에 저장된 문자열에서 [r] 이라는 알파벳의 개수를 출력\n",
    "strList = ['father', 'mother','brother']\n",
    "\n",
    "cnt = 0\n",
    "\n",
    "for i in strList :\n",
    "  for r in i :\n",
    "    if r == 'r' :\n",
    "      cnt = cnt + 1\n",
    "    \n",
    "print(f'r의 개수 : {cnt}')\n",
    "\n",
    "\n",
    "# for i => 'father', 'mother' ...생략\n",
    "# for r in i 의 r => 'f','a','t','h' ...생략\n"
   ]
  },
  {
   "cell_type": "code",
   "execution_count": 97,
   "metadata": {},
   "outputs": [
    {
     "name": "stdout",
     "output_type": "stream",
     "text": [
      "2\n"
     ]
    }
   ],
   "source": [
    "\n",
    "# 시험문제!!!!!!!!!!!!!!!!!!!!!!!!!!!!!!!!!!! \n",
    "# 3개 숫자 입력 받고 max - min\n",
    "list1 = []\n",
    "\n",
    "for i in range(3) :\n",
    "  num = int(input(f'{i+1}번째 정수:'))\n",
    "  list1.append(num)\n",
    "\n",
    "answer = max(list1) - min(list1)\n",
    "\n",
    "print(answer)\n"
   ]
  },
  {
   "cell_type": "code",
   "execution_count": null,
   "metadata": {},
   "outputs": [],
   "source": [
    "list1 = [1,2,3,4,5]\n",
    "list2 = [1,2,[3,4,5]]\n",
    "\n",
    "# 리스트 접근\n",
    "list1[0]"
   ]
  },
  {
   "cell_type": "code",
   "execution_count": 5,
   "metadata": {},
   "outputs": [
    {
     "name": "stdout",
     "output_type": "stream",
     "text": [
      "5\n"
     ]
    }
   ],
   "source": [
    "list3 = [1,2,[3,4,5,],6,7]\n",
    "\n",
    "# '5' 출력하기\n",
    "print(list3[2][2])\n"
   ]
  },
  {
   "cell_type": "code",
   "execution_count": 12,
   "metadata": {},
   "outputs": [
    {
     "name": "stdout",
     "output_type": "stream",
     "text": [
      "['a', 2, [1, 2, 3]]\n"
     ]
    }
   ],
   "source": [
    "# data 추가 방법\n",
    "\n",
    "\n",
    "# 빈 리스트 생성\n",
    "newList = []\n",
    "\n",
    "# 데이터 추가(1) \n",
    "# append() --> 리스트의 마지막 배열에 추가된다.\n",
    "newList.append('a')\n",
    "newList.append(2)\n",
    "newList.append([1,2,3])\n",
    "print(newList)"
   ]
  },
  {
   "cell_type": "code",
   "execution_count": 41,
   "metadata": {},
   "outputs": [
    {
     "name": "stdout",
     "output_type": "stream",
     "text": [
      "[[1, 1, 1], 'a', 3]\n"
     ]
    }
   ],
   "source": [
    "# 데이터 추가(2) \n",
    "# insert(추가할 위치, 추가할 데이터)\n",
    "# 주의점! data 누적!!!\n",
    "newList.insert(2,3)\n",
    "\n",
    "print(newList)\n"
   ]
  },
  {
   "cell_type": "code",
   "execution_count": 45,
   "metadata": {},
   "outputs": [
    {
     "name": "stdout",
     "output_type": "stream",
     "text": [
      "삭제 전 데이터 :  [[1, 1, 1], 'a']\n",
      "삭제 후 데이터 :  [[1, 1, 1]]\n"
     ]
    }
   ],
   "source": [
    "# 데이터 삭제(1)\n",
    "# remove(value) 밸류값이 삭제됨~ key아님니당. 요소아니라구~\n",
    "print('삭제 전 데이터 : ', end=(' '))\n",
    "print(newList)\n",
    "\n",
    "print('삭제 후 데이터 : ', end=(' '))\n",
    "newList.remove('a')\n",
    "print(newList)\n",
    "# 출력값\n",
    "# 삭제 전 데이터 :  [[1, 1, 1], 'a']\n",
    "# 삭제 후 데이터 :  [[1, 1, 1]]\n",
    "\n",
    "# --- 다시 출력하면, 누적이 되므로 오류가 뜬다\n",
    "# 중복된 value값이 있는 경우 앞쪽부터 삭제된다. (한번에 삭제 되는거 아님)"
   ]
  },
  {
   "cell_type": "code",
   "execution_count": 46,
   "metadata": {},
   "outputs": [
    {
     "name": "stdout",
     "output_type": "stream",
     "text": [
      "삭제 전 데이터 :  [[1, 1, 1]]\n",
      "삭제 후 데이터 :  []\n"
     ]
    }
   ],
   "source": [
    "# 데이터 삭제(2)\n",
    "# clear()  모든 데이터 삭제 (안은 공백)\n",
    "print('삭제 전 데이터 : ', end=(' '))\n",
    "print(newList)\n",
    "\n",
    "print('삭제 후 데이터 : ', end=(' '))\n",
    "newList.clear()\n",
    "print(newList)\n",
    "\n",
    "\n",
    "# 출력값\n",
    "# 삭제 전 데이터 :  [[1, 1, 1]]\n",
    "# 삭제 후 데이터 :  []\n",
    "\n"
   ]
  },
  {
   "cell_type": "code",
   "execution_count": 47,
   "metadata": {},
   "outputs": [
    {
     "name": "stdout",
     "output_type": "stream",
     "text": [
      "[2, '파이썬', [1, 2, 3]]\n"
     ]
    }
   ],
   "source": [
    "# 데이터 삭제(추천방법)\n",
    "\n",
    "# index로 삭제가능(요소)\n",
    "# del 리스트명[인덱스]\n",
    "list4 = [1,2,'파이썬',[1,2,3]]\n",
    "\n",
    "del list4[0]\n",
    "print(list4)\n"
   ]
  },
  {
   "cell_type": "code",
   "execution_count": 51,
   "metadata": {},
   "outputs": [],
   "source": [
    "# 리스트 삭제 주의 사항\n",
    "# 아래 코드는 list4라는 변수를 삭제(빈값이 되는 거 아님!!!)\n",
    "# 누적이 되므로 한 번 삭제되면 끝\n",
    "list5 = [1,2,3,4,5]\n",
    "del list5\n"
   ]
  },
  {
   "cell_type": "code",
   "execution_count": 54,
   "metadata": {},
   "outputs": [],
   "source": [
    "# 변수명을 잘못 지정했을때 del로 삭제해주기~\n",
    "# 터미널의 jupyter 참고하면서 하자\n",
    "\n",
    "stuNum = 10\n",
    "del stuum"
   ]
  },
  {
   "cell_type": "code",
   "execution_count": 57,
   "metadata": {},
   "outputs": [
    {
     "name": "stdout",
     "output_type": "stream",
     "text": [
      "[1, 2, 3, 4, 5]\n",
      "[1, 2, 3, [4, 5, 6]]\n",
      "[1, 1]\n"
     ]
    }
   ],
   "source": [
    "# 리스트 합치기\n",
    "list6 = [1,2,3] + [4,5]\n",
    "print(list6)\n",
    "\n",
    "list7 = [1,2,3]\n",
    "list8 = [4,5,6]\n",
    "\n",
    "list7.append(list8)\n",
    "print(list7)\n",
    "\n",
    "list9 = [1,1]\n",
    "list10 = [1,1] "
   ]
  },
  {
   "cell_type": "code",
   "execution_count": 62,
   "metadata": {},
   "outputs": [
    {
     "name": "stdout",
     "output_type": "stream",
     "text": [
      "[2, 3, 4]\n",
      "[2, 3, 4, 5]\n",
      "[1, 2, 3, 4]\n",
      "[1, 2, 3, 4, 5]\n"
     ]
    }
   ],
   "source": [
    "# 리스트 슬라이싱 : 리스트 데이터의 일부 추출\n",
    "list1 = [1,2,3,4,5]\n",
    "\n",
    "# [a:b]  a요소부터 b요소 전까지 ! 리스트로 추출\n",
    "print(list1[1:4]) \n",
    "# [a:] a요소부터 끝까지 리스트로 추출\n",
    "print(list1[1:])\n",
    "# [:b] 0번째 요소부터 b요소 전까지 리스트로 추출\n",
    "print(list1[:4])\n",
    "# [:] 0번째 요소부터 마지막까지! 리스트로 추출\n",
    "print(list1[:])"
   ]
  },
  {
   "cell_type": "code",
   "execution_count": 63,
   "metadata": {},
   "outputs": [
    {
     "name": "stdout",
     "output_type": "stream",
     "text": [
      "[1, 5]\n"
     ]
    }
   ],
   "source": [
    "# 슬라이싱을 이용한 데이터 삭제\n",
    "list1 = [1,2,3,4,5]\n",
    "\n",
    "# del 리스트명[a:b]\n",
    "del list1[1:4]\n",
    "print(list1)"
   ]
  },
  {
   "cell_type": "code",
   "execution_count": 65,
   "metadata": {},
   "outputs": [
    {
     "name": "stdout",
     "output_type": "stream",
     "text": [
      "[1, 7, 8, 4, 5]\n"
     ]
    }
   ],
   "source": [
    "# 슬라이싱을 이용한 데이터 수정\n",
    "list1 = [1,2,3,4,5]\n",
    "\n",
    "list1[1:3] = [7,8]\n",
    "print(list1)"
   ]
  },
  {
   "cell_type": "code",
   "execution_count": 75,
   "metadata": {},
   "outputs": [
    {
     "name": "stdout",
     "output_type": "stream",
     "text": [
      "5\n",
      "[2, 3, 4]\n"
     ]
    }
   ],
   "source": [
    "list1 = [1,2,3,4,5]\n",
    "\n",
    "# index  이건 앞에서부터==> 0,1,2,3,4  //  뒤에서 부터==>   -1,-2,-3,-4,-5 \n",
    "# 마지막 데이터를 찾을때 -1 로 찾으면 쉽다!!!!!!!\n",
    "print(list1[-1])\n",
    "\n",
    "print(list1[1:-1])"
   ]
  }
 ],
 "metadata": {
  "kernelspec": {
   "display_name": "Python 3",
   "language": "python",
   "name": "python3"
  },
  "language_info": {
   "codemirror_mode": {
    "name": "ipython",
    "version": 3
   },
   "file_extension": ".py",
   "mimetype": "text/x-python",
   "name": "python",
   "nbconvert_exporter": "python",
   "pygments_lexer": "ipython3",
   "version": "3.12.4"
  }
 },
 "nbformat": 4,
 "nbformat_minor": 2
}
