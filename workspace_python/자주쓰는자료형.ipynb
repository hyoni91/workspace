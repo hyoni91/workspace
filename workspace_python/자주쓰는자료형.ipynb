{
 "cells": [
  {
   "cell_type": "markdown",
   "metadata": {},
   "source": [
    "### 많이 사용하는 자료형\n",
    "\n",
    "1) 자바 = 리스트 / 배열  \n",
    "* 자바스크립트 = 배열(리스트, 배열)\n",
    "* 파이쎤 = 리스트(리스트, 배열)\n",
    "\n",
    "------------------------------------------------\n",
    "\n",
    "2) 자바 = 클래스\n",
    "* 자바스크립트 = 객체\n",
    "* 파이썬 = 딕셔너리\n",
    "\n"
   ]
  },
  {
   "cell_type": "code",
   "execution_count": 1,
   "metadata": {},
   "outputs": [
    {
     "name": "stdout",
     "output_type": "stream",
     "text": [
      "[1, 2, 3]\n",
      "1\n"
     ]
    }
   ],
   "source": [
    "# ------리스트(리스트/배열)------\n",
    "# 변수명으로 'list'는 사용 금지 (오류는 안 나지만, 금지)  예) list = []   (x)\n",
    "\n",
    "# 자료형 관계없이 저장 가능\n",
    "pythonList = [1,2,3]\n",
    "\n",
    "# 출력은 for문 안 써도 됨\n",
    "print(pythonList)\n",
    "\n",
    "# 0번째 요소부터 시작임\n",
    "print(pythonList[0])\n",
    "\n",
    "\n",
    "\n"
   ]
  },
  {
   "cell_type": "code",
   "execution_count": 6,
   "metadata": {},
   "outputs": [
    {
     "name": "stdout",
     "output_type": "stream",
     "text": [
      "{'stuNum': 1, 'name': '홍길동', 'score': 80}\n",
      "1\n",
      "홍길동\n"
     ]
    }
   ],
   "source": [
    "# -----딕셔너리 -----\n",
    "# 변수명 = { key : value }\n",
    "# 이때, key값은 '문자열'\n",
    "student = {\n",
    "  'stuNum' : 1,\n",
    "  'name' : '홍길동',\n",
    "  'score' : 80         \n",
    "  }\n",
    "\n",
    "# 출력\n",
    "print(student)\n",
    "\n",
    "# 특정값만 추출 => 변수명['key']\n",
    "print(student['stuNum'])\n",
    "print(student['name'])"
   ]
  }
 ],
 "metadata": {
  "kernelspec": {
   "display_name": "Python 3",
   "language": "python",
   "name": "python3"
  },
  "language_info": {
   "codemirror_mode": {
    "name": "ipython",
    "version": 3
   },
   "file_extension": ".py",
   "mimetype": "text/x-python",
   "name": "python",
   "nbconvert_exporter": "python",
   "pygments_lexer": "ipython3",
   "version": "3.12.4"
  }
 },
 "nbformat": 4,
 "nbformat_minor": 2
}
