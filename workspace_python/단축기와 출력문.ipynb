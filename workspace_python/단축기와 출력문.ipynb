{
 "cells": [
  {
   "cell_type": "markdown",
   "metadata": {},
   "source": [
    "### jupyter 단축키 소개\n",
    "\n",
    "* ctrl + Enter : cell 실행\n",
    "* ctrl + space : 코드 자동 완성\n",
    "* y : 코드 작성 영역으로 변환\n",
    "* m : MarkDown 영역으로 변환 \n",
    "* a(above) : 현재 cell 위에 cell추가\n",
    "* b(button) : 현재 cell 아래에 cell 추가\n",
    "* dd : 현재 cell 삭제"
   ]
  },
  {
   "cell_type": "markdown",
   "metadata": {},
   "source": [
    "#### 1. 파이썬 출력문\n"
   ]
  },
  {
   "cell_type": "code",
   "execution_count": 7,
   "metadata": {},
   "outputs": [
    {
     "name": "stdout",
     "output_type": "stream",
     "text": [
      "1\n",
      "홀따옴표 안에 문자열을 작성한다.\n",
      "쌍따옴표도 가능하네?\n"
     ]
    }
   ],
   "source": [
    "# 파이썬 출력 : print() 함수를 사용한다.\n",
    "# () 안에 내용 작성\n",
    "print(1)\n",
    "print('홀따옴표 안에 문자열을 작성한다.')\n",
    "print(\"쌍따옴표도 가능하네?\")\n"
   ]
  },
  {
   "cell_type": "code",
   "execution_count": 13,
   "metadata": {},
   "outputs": [
    {
     "name": "stdout",
     "output_type": "stream",
     "text": [
      "8\n",
      "2\n",
      "15\n",
      "1.6666666666666667\n",
      "1\n",
      "0\n",
      "2\n"
     ]
    }
   ],
   "source": [
    "# 연산 가능\n",
    "print(5 + 3)\n",
    "print(5-3)\n",
    "print(5 * 3)\n",
    "\n",
    "# 나누기는 실수로 나온다\n",
    "print(5 / 3)\n",
    "\n",
    "# 나머지도 가능하네?\n",
    "print(5 % 2)\n",
    "print(3 % 3)\n",
    "\n",
    "# 나눗셈의 몫\n",
    "print(10 // 4)\n"
   ]
  },
  {
   "cell_type": "code",
   "execution_count": 19,
   "metadata": {},
   "outputs": [
    {
     "name": "stdout",
     "output_type": "stream",
     "text": [
      "문자열문자열\n"
     ]
    }
   ],
   "source": [
    "# 문자열 출력\n",
    "print('문자열' + '문자열')\n",
    "\n",
    "# 문자열과 숫자는  + 못 쓴다.\n",
    "# print('문자열' + 5)  #실행안됨\n"
   ]
  },
  {
   "cell_type": "code",
   "execution_count": 20,
   "metadata": {},
   "outputs": [
    {
     "name": "stdout",
     "output_type": "stream",
     "text": [
      "10 20 문자열\n"
     ]
    }
   ],
   "source": [
    "# 파이썬만의 문법\n",
    "# 특징 : 자동으로 스페이스가 생김\n",
    "print(10,20,'문자열')"
   ]
  },
  {
   "cell_type": "code",
   "execution_count": 3,
   "metadata": {},
   "outputs": [
    {
     "name": "stdout",
     "output_type": "stream",
     "text": [
      "python pythonpython"
     ]
    }
   ],
   "source": [
    "# print 개행 하고 싶지 않을 때\n",
    "# end 매개변수의 값을 변경해서 출력 후 실행할 내용을 변경할 수 있다.\n",
    "print('python', end=' ')\n",
    "print('python', end='')\n",
    "print('python', end='')"
   ]
  }
 ],
 "metadata": {
  "kernelspec": {
   "display_name": "Python 3",
   "language": "python",
   "name": "python3"
  },
  "language_info": {
   "codemirror_mode": {
    "name": "ipython",
    "version": 3
   },
   "file_extension": ".py",
   "mimetype": "text/x-python",
   "name": "python",
   "nbconvert_exporter": "python",
   "pygments_lexer": "ipython3",
   "version": "3.12.4"
  }
 },
 "nbformat": 4,
 "nbformat_minor": 2
}
