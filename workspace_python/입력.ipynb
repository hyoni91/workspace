{
 "cells": [
  {
   "cell_type": "markdown",
   "metadata": {},
   "source": [
    "#### 키보드로 입력 받기"
   ]
  },
  {
   "cell_type": "code",
   "execution_count": 2,
   "metadata": {},
   "outputs": [
    {
     "name": "stdout",
     "output_type": "stream",
     "text": [
      "나이는 20 입니다\n"
     ]
    }
   ],
   "source": [
    "# input() : 키보드로 값을 입력 받을 수 있다\n",
    "\n",
    "age = input('나이를 입력하세요 : ')\n",
    "print(f'나이는 {age} 입니다')"
   ]
  },
  {
   "cell_type": "code",
   "execution_count": 9,
   "metadata": {},
   "outputs": [
    {
     "name": "stdout",
     "output_type": "stream",
     "text": [
      "두 수의 합은 4 입니다\n",
      "70\n",
      "20\n"
     ]
    }
   ],
   "source": [
    "# 두 정수를 입력받아 두 정수의 합을 출력하라\n",
    "# input() : 문자열\n",
    "# int() 문자열을 정수로 변환\n",
    "num1 = input('첫번째 정수 : ')  #문자열로 인식됨\n",
    "num2 = input('두번째 정수 : ')\n",
    "print(f'두 수의 합은 {int(num1) + int(num2)} 입니다')\n",
    "\n",
    "# int() 사용\n",
    "result1 = int('20')\n",
    "result2 = int('50')\n",
    "print(result1+result2)\n",
    "\n",
    "\n",
    "# input() ==> int(input())\n",
    "num3 = int(input('첫번째 수 : '))\n",
    "num4 = int(input('두번째 수 : '))\n",
    "\n",
    "print(num3+num4)"
   ]
  },
  {
   "cell_type": "code",
   "execution_count": 10,
   "metadata": {},
   "outputs": [
    {
     "name": "stdout",
     "output_type": "stream",
     "text": [
      "타타학생의 국어점수 100\n",
      "타타학생의 영어점수 80\n",
      "타타학생의 수학점수 75\n",
      "총점 255 평균 85.0\n"
     ]
    }
   ],
   "source": [
    "# 키보드로 학생의 이름, 나이, 국어점수, 영어점수, 수학점수를 입력 받아\n",
    "# 입력받은 학생의 이름, 나이, 국 영 수 점수 및, 총점 과 평균을 출력\n",
    "\n",
    "\n",
    "name = input('이름 : ')\n",
    "korScore = int(input('국어점수 : '))\n",
    "engScore = int(input('영어점수 : '))\n",
    "mathScore = int(input('수학점수 : '))\n",
    "scoreSum = korScore + engScore + mathScore\n",
    "scoreAvg = scoreSum / 3\n",
    "\n",
    "print(f'{name}학생의 국어점수 {korScore}')\n",
    "print(f'{name}학생의 영어점수 {engScore}')\n",
    "print(f'{name}학생의 수학점수 {mathScore}')\n",
    "print(f'총점 {scoreSum} 평균 {scoreAvg}')\n"
   ]
  }
 ],
 "metadata": {
  "kernelspec": {
   "display_name": "Python 3",
   "language": "python",
   "name": "python3"
  },
  "language_info": {
   "codemirror_mode": {
    "name": "ipython",
    "version": 3
   },
   "file_extension": ".py",
   "mimetype": "text/x-python",
   "name": "python",
   "nbconvert_exporter": "python",
   "pygments_lexer": "ipython3",
   "version": "3.12.4"
  }
 },
 "nbformat": 4,
 "nbformat_minor": 2
}
