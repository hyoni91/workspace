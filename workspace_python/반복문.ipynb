{
 "cells": [
  {
   "cell_type": "markdown",
   "metadata": {},
   "source": [
    "### 반복문(for-each)\n",
    "\n",
    "* for-each만 존재한다.\n",
    "* for i in 반복문 돌릴 조건 :  \n",
    "* i => 변수명 (즉, 변경가능)"
   ]
  },
  {
   "cell_type": "code",
   "execution_count": 1,
   "metadata": {},
   "outputs": [
    {
     "name": "stdout",
     "output_type": "stream",
     "text": [
      "1\n",
      "2\n",
      "3\n"
     ]
    }
   ],
   "source": [
    "for i in [1,2,3] :\n",
    "  print(i)"
   ]
  },
  {
   "cell_type": "code",
   "execution_count": 23,
   "metadata": {},
   "outputs": [
    {
     "name": "stdout",
     "output_type": "stream",
     "text": [
      "[1, 2, 3, 4, 5]\n",
      "-----------------------\n",
      "1\n",
      "2\n",
      "3\n",
      "4\n",
      "5\n"
     ]
    }
   ],
   "source": [
    "numList = [1,2,3,4,5]\n",
    "\n",
    "for i in [numList] :\n",
    "  print(i)\n",
    "\n",
    "print('-----------------------')\n",
    "\n",
    "for i in numList :\n",
    "  print(i)"
   ]
  },
  {
   "cell_type": "code",
   "execution_count": 6,
   "metadata": {},
   "outputs": [
    {
     "name": "stdout",
     "output_type": "stream",
     "text": [
      "1\n",
      "2\n",
      "3\n",
      "4\n",
      "----- range() -----\n",
      "0\n",
      "이것은 range수 만큼\n",
      "1\n",
      "이것은 range수 만큼\n",
      "2\n",
      "이것은 range수 만큼\n",
      "3\n",
      "이것은 range수 만큼\n",
      "4\n",
      "이것은 range수 만큼\n"
     ]
    }
   ],
   "source": [
    "# range(num1 , num2)\n",
    "\n",
    "for i in range(1,5) :\n",
    "  print(i)\n",
    "\n",
    "\n",
    "print('----- range() -----')\n",
    "\n",
    "# range(number) : 자동으로 0부터 시작\n",
    "\n",
    "for i in range(5) :\n",
    "  print(i)\n",
    "  print('이것은 range수 만큼')"
   ]
  },
  {
   "cell_type": "code",
   "execution_count": 21,
   "metadata": {},
   "outputs": [
    {
     "name": "stdout",
     "output_type": "stream",
     "text": [
      "5\n"
     ]
    }
   ],
   "source": [
    "# 1~10까지의 정수 중 짝수의 개수 출력\n",
    "cnt = 0\n",
    "for i in range(1,11) :\n",
    "  if i % 2 == 0 :\n",
    "    cnt = cnt +1\n",
    "\n",
    "print(cnt)"
   ]
  },
  {
   "cell_type": "code",
   "execution_count": 29,
   "metadata": {},
   "outputs": [
    {
     "name": "stdout",
     "output_type": "stream",
     "text": [
      "3 6 9 12 15 18 \n",
      "3의 배수 개수: 6\n"
     ]
    }
   ],
   "source": [
    "# 1~20까지의 정수 중 3의 배수의 개수를 출력한 후 3의 배수도 모두 출력 \n",
    "\n",
    "count = 0\n",
    "\n",
    "for i in range(1 , 21) :\n",
    "  if i % 3 == 0 :\n",
    "    count = count + 1\n",
    "    print(i, end=' ')\n",
    "\n",
    "print()\n",
    "print(f'3의 배수 개수: {count}')\n"
   ]
  },
  {
   "cell_type": "code",
   "execution_count": 34,
   "metadata": {},
   "outputs": [
    {
     "name": "stdout",
     "output_type": "stream",
     "text": [
      "합계 : 55\n"
     ]
    }
   ],
   "source": [
    "# 키보드로 입력 받은 두 정수 사이(입력받은 정수 미포함)의 모든 수의 합을 출력\n",
    "\n",
    "num1 = int(input('정수입력: '))\n",
    "num2 = int(input('정수입력: '))\n",
    "\n",
    "# 두 수 중 큰 수와 작은 수 결정 하기\n",
    "max = 0\n",
    "min = 0\n",
    "\n",
    "\n",
    "if num1 > num2 :\n",
    "  max = num1\n",
    "  min = num2\n",
    "else  :\n",
    "  max = num2\n",
    "  min = num1\n",
    "\n",
    "\n",
    "\n",
    "\n",
    "sum = 0\n",
    "\n",
    "for i in range(min+1, max) :\n",
    "  sum = sum + i\n",
    "\n",
    "print(f'합계 : {sum}')"
   ]
  },
  {
   "cell_type": "code",
   "execution_count": 36,
   "metadata": {},
   "outputs": [
    {
     "name": "stdout",
     "output_type": "stream",
     "text": [
      "합계 : 55\n"
     ]
    }
   ],
   "source": [
    "# 파이썬에서 삼항연산자\n",
    "num3 = int(input('정수입력: '))\n",
    "num4 = int(input('정수입력: '))\n",
    "max = 0\n",
    "min = 0\n",
    "\n",
    "# 문법\n",
    "# 참일때 값 if 조건 else 거짓일 때 값\n",
    "max = num3 if num3 > num4 else num4\n",
    "min = num4 if num3 > num4 else num3\n",
    "\n",
    "sum = 0\n",
    "\n",
    "\n",
    "for i in range(min+1, max) :\n",
    "  sum = sum + i\n",
    "\n",
    "print(f'합계 : {sum}')\n"
   ]
  },
  {
   "cell_type": "code",
   "execution_count": 33,
   "metadata": {},
   "outputs": [
    {
     "name": "stdout",
     "output_type": "stream",
     "text": [
      "포함\n"
     ]
    }
   ],
   "source": [
    "# 아래에 제시한 data에서 5가 포함되어 있는지 판단하고, 5가 포함되어 있으면 '포함' 출력\n",
    "\n",
    "data = [1,3,5,7,9]\n",
    "\n",
    "for i in data :\n",
    "  if(i == 5) :\n",
    "    print('포함')\n",
    "\n"
   ]
  },
  {
   "cell_type": "code",
   "execution_count": 37,
   "metadata": {},
   "outputs": [
    {
     "name": "stdout",
     "output_type": "stream",
     "text": [
      "포함\n"
     ]
    }
   ],
   "source": [
    "# 파이썬식(중요!!!!!!!!!!)\n",
    "\n",
    "data = [1,3,5,7,9]\n",
    "\n",
    "if 5 in data :\n",
    "  print('포함')\n"
   ]
  }
 ],
 "metadata": {
  "kernelspec": {
   "display_name": "Python 3",
   "language": "python",
   "name": "python3"
  },
  "language_info": {
   "codemirror_mode": {
    "name": "ipython",
    "version": 3
   },
   "file_extension": ".py",
   "mimetype": "text/x-python",
   "name": "python",
   "nbconvert_exporter": "python",
   "pygments_lexer": "ipython3",
   "version": "3.12.4"
  }
 },
 "nbformat": 4,
 "nbformat_minor": 2
}
