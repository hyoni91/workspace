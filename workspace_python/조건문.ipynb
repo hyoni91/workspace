{
 "cells": [
  {
   "cell_type": "markdown",
   "metadata": {},
   "source": [
    "### 조건문(if)\n",
    "\n",
    "* 세미콜론과 중괄호는 사용 안 함\n",
    "* 파이썬은 모든 문법의 영역을 들여쓰기로 판단한다.\n",
    "* if문의 영역 안에서 print하기 위해서는 들여쓰기를 해야한다! \n",
    "* if, elif , else는 내어쓰기를 해야한다.\n",
    "* 여기서 주의점은 들여쓰기와 내어쓰기는 같은 선? 레벨 안에서 해야한다!\n",
    "\n",
    "**** 문법 ****  \n",
    "if 조건 : \n",
    "  print()\n",
    "elif 조건 :\n",
    "  print()\n",
    "else :\n",
    "  print()\n",
    "\n",
    "------------------------------------------------------------------\n",
    "\n",
    "\n",
    "**** 잘못된 예시 ****\n",
    "if 조건 :\n",
    "print()  ---> if와 상관없이 프린트됨\n",
    "\n",
    "\n"
   ]
  },
  {
   "cell_type": "code",
   "execution_count": null,
   "metadata": {},
   "outputs": [],
   "source": [
    "num = 5 \n",
    "\n",
    "if num > 10 : \n",
    "  print('num은 10보다 작습니다.')\n",
    "elif num > 5 :\n",
    "  print('조건문 내어쓰기~ 결과?는 들여쓰기')\n",
    "else :\n",
    "  print('끝')"
   ]
  },
  {
   "cell_type": "code",
   "execution_count": 2,
   "metadata": {},
   "outputs": [
    {
     "name": "stdout",
     "output_type": "stream",
     "text": [
      "10\n"
     ]
    }
   ],
   "source": [
    "# 키보드로 두 정수를 입력받아 두 정수 중 큰 수를 출력하시오.\n",
    "\n",
    "num1 = int(input('첫번째 정수 : '))\n",
    "num2 = int(input('두번째 정수 : '))\n",
    "\n",
    "if num1 > num2 :\n",
    "  print(num1)\n",
    "else :\n",
    "  print(num2)\n"
   ]
  }
 ],
 "metadata": {
  "kernelspec": {
   "display_name": "Python 3",
   "language": "python",
   "name": "python3"
  },
  "language_info": {
   "codemirror_mode": {
    "name": "ipython",
    "version": 3
   },
   "file_extension": ".py",
   "mimetype": "text/x-python",
   "name": "python",
   "nbconvert_exporter": "python",
   "pygments_lexer": "ipython3",
   "version": "3.12.4"
  }
 },
 "nbformat": 4,
 "nbformat_minor": 2
}
